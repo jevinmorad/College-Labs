{
 "cells": [
  {
   "cell_type": "markdown",
   "id": "979e156a-349c-412d-bc96-928f05d18a14",
   "metadata": {},
   "source": [
    "<a href='https://www.darshan.ac.in/'> <img src='https://www.darshan.ac.in/Content/media/DU_Logo.svg' width=\"250\" height=\"300\"/></a>\n",
    "<pre>\n",
    "<center><b><h1>Data Mining</b></center>\n",
    "<center><b><h1>Dataset- Online Retail</b></center> \n",
    "<center><b><h1>Jevin Morad | 23010101171</b></center>    \n",
    "<pre>"
   ]
  },
  {
   "cell_type": "code",
   "execution_count": 2,
   "id": "e2ef3429-6b77-4607-87b1-9eb6ec0654c4",
   "metadata": {},
   "outputs": [
    {
     "ename": "ModuleNotFoundError",
     "evalue": "No module named 'pandas'",
     "output_type": "error",
     "traceback": [
      "\u001b[31m---------------------------------------------------------------------------\u001b[39m",
      "\u001b[31mModuleNotFoundError\u001b[39m                       Traceback (most recent call last)",
      "\u001b[36mCell\u001b[39m\u001b[36m \u001b[39m\u001b[32mIn[2]\u001b[39m\u001b[32m, line 1\u001b[39m\n\u001b[32m----> \u001b[39m\u001b[32m1\u001b[39m \u001b[38;5;28;01mimport\u001b[39;00m\u001b[38;5;250m \u001b[39m\u001b[34;01mpandas\u001b[39;00m\u001b[38;5;250m \u001b[39m\u001b[38;5;28;01mas\u001b[39;00m\u001b[38;5;250m \u001b[39m\u001b[34;01mpd\u001b[39;00m\n\u001b[32m      2\u001b[39m \u001b[38;5;28;01mimport\u001b[39;00m\u001b[38;5;250m \u001b[39m\u001b[34;01mnumpy\u001b[39;00m\u001b[38;5;250m \u001b[39m\u001b[38;5;28;01mas\u001b[39;00m\u001b[38;5;250m \u001b[39m\u001b[34;01mnp\u001b[39;00m\n\u001b[32m      3\u001b[39m \u001b[38;5;28;01mimport\u001b[39;00m\u001b[38;5;250m \u001b[39m\u001b[34;01mmatplotlib\u001b[39;00m\u001b[34;01m.\u001b[39;00m\u001b[34;01mpyplot\u001b[39;00m\u001b[38;5;250m \u001b[39m\u001b[38;5;28;01mas\u001b[39;00m\u001b[38;5;250m \u001b[39m\u001b[34;01mplt\u001b[39;00m\n",
      "\u001b[31mModuleNotFoundError\u001b[39m: No module named 'pandas'"
     ]
    }
   ],
   "source": [
    "import pandas as pd\n",
    "import numpy as np\n",
    "import matplotlib.pyplot as plt"
   ]
  },
  {
   "cell_type": "code",
   "execution_count": null,
   "id": "ec52bc02-801e-4222-97b9-faa0fc9461fa",
   "metadata": {},
   "outputs": [],
   "source": [
    "df = pd.read_csv('datasets/HeartDisease.csv', encoding='ISO-8859-1')"
   ]
  },
  {
   "cell_type": "code",
   "execution_count": null,
   "id": "d79f8f8a-3f1c-49ab-852c-c182cbe68a62",
   "metadata": {
    "scrolled": true
   },
   "outputs": [],
   "source": [
    "df"
   ]
  },
  {
   "cell_type": "code",
   "execution_count": null,
   "id": "d78c0136-c5b3-4926-b467-e406592e99ac",
   "metadata": {},
   "outputs": [],
   "source": [
    "df.head(10)"
   ]
  },
  {
   "cell_type": "code",
   "execution_count": null,
   "id": "e5044fd4-8404-408d-97cd-52178fd80f26",
   "metadata": {},
   "outputs": [],
   "source": [
    "df.tail(10)"
   ]
  },
  {
   "cell_type": "code",
   "execution_count": null,
   "id": "9aa22991-bd5d-437c-914e-eed5c4f92bed",
   "metadata": {},
   "outputs": [],
   "source": [
    "df.dtypes"
   ]
  },
  {
   "cell_type": "code",
   "execution_count": null,
   "id": "0cfcbc7c-1299-4c29-acc1-ef85c5ff7126",
   "metadata": {},
   "outputs": [],
   "source": [
    "df.info()"
   ]
  },
  {
   "cell_type": "code",
   "execution_count": null,
   "id": "1b9d15e4-7757-44d6-bcff-1dee5f8cfa85",
   "metadata": {},
   "outputs": [],
   "source": [
    "print(df.shape)\n",
    "print(df.shape[0])\n",
    "print(df.shape[1])"
   ]
  },
  {
   "cell_type": "code",
   "execution_count": null,
   "id": "840c3836-c5ff-4966-b5ce-3747eeb48b3c",
   "metadata": {},
   "outputs": [],
   "source": [
    "df.describe()"
   ]
  },
  {
   "cell_type": "code",
   "execution_count": null,
   "id": "9593c089-b01e-4841-b042-393d30af23b8",
   "metadata": {},
   "outputs": [],
   "source": [
    "print(df.iloc[50])\n",
    "print(df.iloc[5:10, 3:5])"
   ]
  },
  {
   "cell_type": "code",
   "execution_count": null,
   "id": "d71c4132-9b35-4538-acbf-ce69dd29569d",
   "metadata": {},
   "outputs": [],
   "source": [
    "print((df['age']>10))"
   ]
  },
  {
   "cell_type": "code",
   "execution_count": null,
   "id": "7d97d2b8-2505-4c75-abd9-38a0d10420be",
   "metadata": {},
   "outputs": [],
   "source": [
    "df.chol.sum()"
   ]
  },
  {
   "cell_type": "code",
   "execution_count": null,
   "id": "10ba9837-852e-486f-9582-d2a6a475cbfa",
   "metadata": {},
   "outputs": [],
   "source": [
    "df.chol.mean()"
   ]
  },
  {
   "cell_type": "code",
   "execution_count": null,
   "id": "c8309171-ff0e-4163-948a-ab652644c93e",
   "metadata": {},
   "outputs": [],
   "source": [
    "(~df.isnull()).sum()\n",
    "df.count()"
   ]
  },
  {
   "cell_type": "code",
   "execution_count": null,
   "id": "d78cb6e1-cfae-497d-a9be-98ae09a2daa8",
   "metadata": {},
   "outputs": [],
   "source": [
    "print(df['trestbps'].min())\n",
    "print(df['trestbps'].max())"
   ]
  },
  {
   "cell_type": "code",
   "execution_count": null,
   "id": "830a5641-6553-44b0-a744-43a2bfea647f",
   "metadata": {},
   "outputs": [],
   "source": [
    "numaric=['age', 'chol', 'trestbps']\n",
    "for col in numaric:\n",
    "    print(f\"{col}:\")\n",
    "    print(f\"    Mean:{df[col].mean()}\")\n",
    "    print(f\"    Standard deviation:{df[col].std()}\")\n",
    "    print(f\"    Minimun:{df[col].min()}\")\n",
    "    print(f\"    Mode:{df[col].mode()[0]}\")\n",
    "    print(f\"    Range:{df[col].max()-df[col].min()}\")\n",
    "    print(f\"    Max:{df[col].max()}\")"
   ]
  },
  {
   "cell_type": "code",
   "execution_count": null,
   "id": "31675f1e-6384-4329-89d8-b40ad58dc1f9",
   "metadata": {},
   "outputs": [],
   "source": [
    "df['slope'].value_counts()"
   ]
  },
  {
   "cell_type": "code",
   "execution_count": null,
   "id": "756baa27-f090-4938-8777-0f73ea0287c4",
   "metadata": {},
   "outputs": [],
   "source": [
    "df.columns"
   ]
  },
  {
   "cell_type": "code",
   "execution_count": null,
   "id": "2ec919ce-0186-45a8-80a5-cca751d50872",
   "metadata": {},
   "outputs": [],
   "source": [
    "df.sex.nunique()"
   ]
  },
  {
   "cell_type": "code",
   "execution_count": null,
   "id": "76262b29-5178-4903-a58b-38744d46101d",
   "metadata": {},
   "outputs": [],
   "source": [
    "a=df.groupby('slope')['chol'].sum()\n",
    "a[a>120]"
   ]
  },
  {
   "cell_type": "code",
   "execution_count": null,
   "id": "0766d3cf-493f-43a5-8859-d9a7991d05f3",
   "metadata": {},
   "outputs": [],
   "source": [
    "len(df)"
   ]
  },
  {
   "cell_type": "code",
   "execution_count": null,
   "id": "7eaec3d5-0f73-4a9e-84aa-eb4613dc6ea9",
   "metadata": {},
   "outputs": [],
   "source": [
    "print(df.duplicated().sum())"
   ]
  },
  {
   "cell_type": "code",
   "execution_count": null,
   "id": "bb23d494-c36a-4557-9f7d-862c3ede4879",
   "metadata": {},
   "outputs": [],
   "source": [
    "df[df['age'] < 50]"
   ]
  },
  {
   "cell_type": "code",
   "execution_count": null,
   "id": "1db9bfd9-e12f-43e2-9cf8-0b193ff70081",
   "metadata": {},
   "outputs": [],
   "source": [
    "df.groupby('slope')['chol'].sum().sort_values(ascending=False).head(10)"
   ]
  },
  {
   "cell_type": "code",
   "execution_count": null,
   "id": "f298dffa",
   "metadata": {},
   "outputs": [],
   "source": [
    "df['age'].skew()"
   ]
  }
 ],
 "metadata": {
  "kernelspec": {
   "display_name": "Python 3",
   "language": "python",
   "name": "python3"
  },
  "language_info": {
   "codemirror_mode": {
    "name": "ipython",
    "version": 3
   },
   "file_extension": ".py",
   "mimetype": "text/x-python",
   "name": "python",
   "nbconvert_exporter": "python",
   "pygments_lexer": "ipython3",
   "version": "3.13.5"
  }
 },
 "nbformat": 4,
 "nbformat_minor": 5
}
