{
 "cells": [
  {
   "cell_type": "markdown",
   "metadata": {},
   "source": [
    "<a href='https://www.darshan.ac.in/'> <img src='https://www.darshan.ac.in/Content/media/DU_Logo.svg' width=\"250\" height=\"300\"/></a>\n",
    "<pre>\n",
    "<center><b><h1>Python Programming - 2301CS404</b></center>\n",
    "<center><b><h1>Lab - 13</b></center>    \n",
    "<pre>"
   ]
  },
  {
   "cell_type": "markdown",
   "metadata": {},
   "source": [
    "# OOP"
   ]
  },
  {
   "cell_type": "markdown",
   "metadata": {},
   "source": [
    "### 01) Write a Program to create a class by name Students, and initialize attributes like name, age, and grade while creating an object."
   ]
  },
  {
   "cell_type": "code",
   "execution_count": 6,
   "metadata": {},
   "outputs": [
    {
     "name": "stdout",
     "output_type": "stream",
     "text": [
      "Name: John\n",
      "Age: 20\n",
      "Grade: A\n"
     ]
    }
   ],
   "source": [
    "class Students:\n",
    "    def __init__(self, name, age, grade):\n",
    "        self.name = name\n",
    "        self.age = age\n",
    "        self.grade = grade\n",
    "\n",
    "    def display(self):\n",
    "        print(\"Name:\", self.name)\n",
    "        print(\"Age:\", self.age)\n",
    "        print(\"Grade:\", self.grade)\n",
    "\n",
    "student1 = Students(\"John\", 20, \"A\")\n",
    "student1.display()"
   ]
  },
  {
   "cell_type": "markdown",
   "metadata": {},
   "source": [
    "### 02) Create a class named Bank_Account with Account_No, User_Name, Email,Account_Type and Account_Balance data members. Also create a method GetAccountDetails() and DisplayAccountDetails(). Create main method to demonstrate the Bank_Account class."
   ]
  },
  {
   "cell_type": "code",
   "execution_count": 7,
   "metadata": {},
   "outputs": [
    {
     "name": "stdout",
     "output_type": "stream",
     "text": [
      "--------------------------------------------------------------------\n",
      "Account_No: \n",
      "User name: \n",
      "Email: \n",
      "Account type: \n",
      "Balance: \n"
     ]
    }
   ],
   "source": [
    "class Bank_Account:\n",
    "    def getAccountDetails(self):\n",
    "        self.account_no = input(\"Enter account number: \")\n",
    "        self.name = input(\"Enter holder name: \")\n",
    "        self.email = input(\"Enter email: \")\n",
    "        self.account_type = input(\"Enter account type: \")\n",
    "        self.balance = input(\"Enter balance: \")\n",
    "    \n",
    "    def displayDetails(self):\n",
    "        print(\"Account_No:\", self.account_no)\n",
    "        print(\"User name:\", self.name)\n",
    "        print(\"Email:\", self.email)\n",
    "        print(\"Account type:\",self.account_type)\n",
    "        print(\"Balance:\",self.balance)\n",
    "    \n",
    "account1 = Bank_Account()\n",
    "account1.getAccountDetails()\n",
    "print(\"--------------------------------------------------------------------\")\n",
    "account1.displayDetails()"
   ]
  },
  {
   "cell_type": "markdown",
   "metadata": {},
   "source": [
    "### 03) WAP to create Circle class with area and perimeter function to find area and perimeter of circle."
   ]
  },
  {
   "cell_type": "code",
   "execution_count": 8,
   "metadata": {},
   "outputs": [
    {
     "name": "stdout",
     "output_type": "stream",
     "text": [
      "Perimeter =  31.41592653589793\n",
      "Area =  78.53981633974483\n"
     ]
    }
   ],
   "source": [
    "import math\n",
    "\n",
    "class Circle:\n",
    "    def __init__(self, r):\n",
    "        self.r = r\n",
    "        \n",
    "    def perimeter(self):\n",
    "        return 2*math.pi*self.r\n",
    "    \n",
    "    def area(self):\n",
    "        return math.pi*self.r**2\n",
    "    \n",
    "circle1 = Circle(5)\n",
    "print(\"Perimeter = \",circle1.perimeter())\n",
    "print(\"Area = \",circle1.area())"
   ]
  },
  {
   "cell_type": "markdown",
   "metadata": {},
   "source": [
    "### 04) Create a class for employees that includes attributes such as name, age, salary, and methods to update and display employee information."
   ]
  },
  {
   "cell_type": "code",
   "execution_count": 13,
   "metadata": {},
   "outputs": [
    {
     "name": "stdout",
     "output_type": "stream",
     "text": [
      "Name: John Doe\n",
      "Age: 30\n",
      "Salary: 50000\n",
      "\n",
      "After update:\n",
      "Name: John Doe\n",
      "Age: 2\n",
      "Salary: 60000\n"
     ]
    }
   ],
   "source": [
    "class Employee:\n",
    "    def __init__(self, name, age, salary):\n",
    "        self.name = name\n",
    "        self.age = age\n",
    "        self.salary = salary\n",
    "\n",
    "    def updateInfo(self, name = \"\", age = \"\", salary = \"\"):\n",
    "        if(name != \"\"): self.name = name\n",
    "        if(age != \"\"): self.age = age\n",
    "        if(salary != 0): self.salary = salary\n",
    "\n",
    "    def displayInfo(self):\n",
    "        print(\"Name:\", self.name)\n",
    "        print(\"Age:\", self.age)\n",
    "        print(\"Salary:\", self.salary)\n",
    "        \n",
    "employee1 = Employee(\"John Doe\", 30, 50000)\n",
    "employee1.displayInfo()\n",
    "employee1.updateInfo(age=2,salary=60000)\n",
    "print(\"\\nAfter update:\")\n",
    "employee1.displayInfo()\n",
    "        "
   ]
  },
  {
   "cell_type": "markdown",
   "metadata": {},
   "source": [
    "### 05) Create a bank account class with methods to deposit, withdraw, and check balance."
   ]
  },
  {
   "cell_type": "code",
   "execution_count": 14,
   "metadata": {},
   "outputs": [
    {
     "name": "stdout",
     "output_type": "stream",
     "text": [
      "4000\n"
     ]
    }
   ],
   "source": [
    "class BankAccount:\n",
    "    def __init__(self, name, balance = 0):\n",
    "        self.name = name\n",
    "        self.balance = balance\n",
    "\n",
    "    def deposit(self, amount):\n",
    "        self.balance += amount\n",
    "\n",
    "    def withdraw(self, amount):\n",
    "        if(amount > self.balance):\n",
    "            print(\"Insufficient balance\")\n",
    "        else:\n",
    "            self.balance -= amount\n",
    "\n",
    "    def checkBalance(self):\n",
    "        return self.balance\n",
    "account = BankAccount(\"John Doe\", 5000)\n",
    "account.deposit(2000)\n",
    "account.withdraw(3000)\n",
    "print(account.checkBalance())"
   ]
  },
  {
   "cell_type": "markdown",
   "metadata": {},
   "source": [
    "### 06) Create a class for managing inventory that includes attributes such as item name, price, quantity, and methods to add, remove, and update items."
   ]
  },
  {
   "cell_type": "code",
   "execution_count": 15,
   "metadata": {},
   "outputs": [
    {
     "name": "stdout",
     "output_type": "stream",
     "text": [
      "('Apple', 2, 130)\n"
     ]
    }
   ],
   "source": [
    "class Inventory:\n",
    "    def __init__(self, item_name, price, quantity):\n",
    "        self.item_name = item_name\n",
    "        self.price = price\n",
    "        self.quantity = quantity\n",
    "\n",
    "    def add_item(self, quantity):\n",
    "        self.quantity += quantity\n",
    "\n",
    "    def remove_item(self, quantity):\n",
    "        if(quantity > self.quantity):\n",
    "            print(\"Insufficient quantity\")\n",
    "        else:\n",
    "            self.quantity -= quantity\n",
    "    def update_price(self, new_price):\n",
    "        self.price = new_price\n",
    "\n",
    "    def check_inventory(self):\n",
    "        return self.item_name, self.price, self.quantity\n",
    "inventory = Inventory(\"Apple\", 1.5, 100)\n",
    "\n",
    "inventory.add_item(50)\n",
    "\n",
    "inventory.remove_item(20)\n",
    "\n",
    "inventory.update_price(2)\n",
    "\n",
    "print(inventory.check_inventory())"
   ]
  },
  {
   "cell_type": "markdown",
   "metadata": {},
   "source": [
    "### 07) Create a Class with instance attributes of your choice."
   ]
  },
  {
   "cell_type": "code",
   "execution_count": null,
   "metadata": {},
   "outputs": [
    {
     "name": "stdout",
     "output_type": "stream",
     "text": [
      "Name: John, Age: 16, Grade: 10\n"
     ]
    }
   ],
   "source": [
    "class Students:\n",
    "    def __init__(self, name, age, grade):\n",
    "        self.name = name\n",
    "        self.age = age\n",
    "        self.grade = grade\n",
    "\n",
    "    def display(self):\n",
    "        print(\"Name:\", self.name)\n",
    "        print(\"Age:\", self.age)\n",
    "        print(\"Grade:\", self.grade)\n",
    "\n",
    "student1 = Students(\"John\", 20, \"A\")\n",
    "student1.display()"
   ]
  },
  {
   "cell_type": "markdown",
   "metadata": {},
   "source": [
    "### 08) Create one class student_kit\n",
    "#### Within the student_kit class create one class attribute principal name ( Mr ABC )\n",
    "#### Create one attendance method and take input as number of days.\n",
    "#### While creating student take input their name .\n",
    "#### Create one certificate for each student by taking input of number of days present in class."
   ]
  },
  {
   "cell_type": "code",
   "execution_count": 1,
   "metadata": {},
   "outputs": [
    {
     "name": "stdout",
     "output_type": "stream",
     "text": [
      "Certificate for John\n",
      "Principal: Mr ABC\n",
      "Days present: 25\n",
      "This is a certificate for your attendance.\n"
     ]
    }
   ],
   "source": [
    "class Student_Kit:\n",
    "    principal_name = \"Mr ABC\"\n",
    "    \n",
    "    def __init__(self, name):\n",
    "        self.name = name\n",
    "\n",
    "    def attendance(self, days):\n",
    "        self.days = days\n",
    "\n",
    "    def certificate(self):\n",
    "        print(f\"Certificate for {self.name}\")\n",
    "        print(f\"Principal: {Student_Kit.principal_name}\")\n",
    "        print(f\"Days present: {self.days}\")\n",
    "\n",
    "    def print_certificate(self):\n",
    "        self.certificate()\n",
    "        print(\"This is a certificate for your attendance.\")\n",
    "\n",
    "student1 = Student_Kit(\"John\")\n",
    "student1.attendance(25)\n",
    "student1.print_certificate()"
   ]
  },
  {
   "cell_type": "markdown",
   "metadata": {},
   "source": [
    "### 09) Define Time class with hour and minute as data member. Also define addition method to add two time objects."
   ]
  },
  {
   "cell_type": "code",
   "execution_count": 2,
   "metadata": {},
   "outputs": [
    {
     "name": "stdout",
     "output_type": "stream",
     "text": [
      "06:15\n"
     ]
    }
   ],
   "source": [
    "class Time:\n",
    "    def __init__(self, hour, minute):\n",
    "        self.hour = hour\n",
    "        self.minute = minute\n",
    "\n",
    "    def add(self, other):\n",
    "        total_minutes = self.minute + other.minute\n",
    "        total_hours = self.hour + other.hour + total_minutes\n",
    "        total_minutes = total_minutes % 60\n",
    "        total_hours = total_hours % 24\n",
    "        return Time(total_hours, total_minutes)\n",
    "\n",
    "    def display(self):\n",
    "        print(f\"{self.hour:02d}:{self.minute:02d}\")\n",
    "\n",
    "time1 = Time(2, 30)\n",
    "time2 = Time(1, 45)\n",
    "time3 = time1.add(time2)\n",
    "time3.display()"
   ]
  }
 ],
 "metadata": {
  "kernelspec": {
   "display_name": "Python 3 (ipykernel)",
   "language": "python",
   "name": "python3"
  },
  "language_info": {
   "codemirror_mode": {
    "name": "ipython",
    "version": 3
   },
   "file_extension": ".py",
   "mimetype": "text/x-python",
   "name": "python",
   "nbconvert_exporter": "python",
   "pygments_lexer": "ipython3",
   "version": "3.10.9"
  }
 },
 "nbformat": 4,
 "nbformat_minor": 4
}
