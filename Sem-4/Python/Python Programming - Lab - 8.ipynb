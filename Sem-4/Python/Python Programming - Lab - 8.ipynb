{
 "cells": [
  {
   "cell_type": "markdown",
   "metadata": {},
   "source": [
    "<a href='https://www.darshan.ac.in/'> <img src='https://www.darshan.ac.in/Content/media/DU_Logo.svg' width=\"250\" height=\"300\"/></a>\n",
    "<pre>\n",
    "<center><b><h1>Python Programming - 2301CS404</b></center>\n",
    "<center><b><h1>Lab - 8</b></center>    \n",
    "<pre>"
   ]
  },
  {
   "cell_type": "markdown",
   "metadata": {},
   "source": [
    "# User Defined Function"
   ]
  },
  {
   "cell_type": "markdown",
   "metadata": {},
   "source": [
    "### 01) Write a function to calculate BMI given mass and height. (BMI = mass/h**2)"
   ]
  },
  {
   "cell_type": "code",
   "execution_count": 4,
   "metadata": {},
   "outputs": [
    {
     "name": "stdout",
     "output_type": "stream",
     "text": [
      "BMI = 27.320538214602827\n"
     ]
    }
   ],
   "source": [
    "def bmi(mass, h):\n",
    "    return mass/h**2\n",
    "\n",
    "mass = float(input(\"Enter weight\"))\n",
    "h = float(input(\"Enter height: \"))\n",
    "print(f'BMI = {bmi(mass, h)}')"
   ]
  },
  {
   "cell_type": "markdown",
   "metadata": {},
   "source": [
    "### 02) Write a function that add first n numbers."
   ]
  },
  {
   "cell_type": "code",
   "execution_count": 5,
   "metadata": {},
   "outputs": [
    {
     "name": "stdout",
     "output_type": "stream",
     "text": [
      "Sum of first 100 numbers = 5050.0\n"
     ]
    }
   ],
   "source": [
    "def add(n):\n",
    "    return n*(n+1)/2\n",
    "\n",
    "print(f'Sum of first 100 numbers = {add(100)}')"
   ]
  },
  {
   "cell_type": "markdown",
   "metadata": {},
   "source": [
    "### 03) Write a function that returns 1 if the given number is Prime or 0 otherwise."
   ]
  },
  {
   "cell_type": "code",
   "execution_count": 26,
   "metadata": {},
   "outputs": [
    {
     "name": "stdout",
     "output_type": "stream",
     "text": [
      "1\n"
     ]
    }
   ],
   "source": [
    "def isPrime(n):\n",
    "    if(n<2):\n",
    "        return 0\n",
    "    for i in range(2,int(n**0.5 + 1)):\n",
    "        if(n%i==0):\n",
    "            return 0\n",
    "    else:\n",
    "        return 1\n",
    "    \n",
    "print(isPrime(37))"
   ]
  },
  {
   "cell_type": "markdown",
   "metadata": {},
   "source": [
    "### 04) Write a function that returns the list of Prime numbers between given two numbers."
   ]
  },
  {
   "cell_type": "code",
   "execution_count": 27,
   "metadata": {},
   "outputs": [
    {
     "name": "stdout",
     "output_type": "stream",
     "text": [
      "Prime numbers from 0-1000 are : [2, 3, 5, 7, 11, 13, 17, 19, 23, 29, 31, 37, 41, 43, 47, 53, 59, 61, 67, 71, 73, 79, 83, 89, 97, 101, 103, 107, 109, 113, 127, 131, 137, 139, 149, 151, 157, 163, 167, 173, 179, 181, 191, 193, 197, 199, 211, 223, 227, 229, 233, 239, 241, 251, 257, 263, 269, 271, 277, 281, 283, 293, 307, 311, 313, 317, 331, 337, 347, 349, 353, 359, 367, 373, 379, 383, 389, 397, 401, 409, 419, 421, 431, 433, 439, 443, 449, 457, 461, 463, 467, 479, 487, 491, 499, 503, 509, 521, 523, 541, 547, 557, 563, 569, 571, 577, 587, 593, 599, 601, 607, 613, 617, 619, 631, 641, 643, 647, 653, 659, 661, 673, 677, 683, 691, 701, 709, 719, 727, 733, 739, 743, 751, 757, 761, 769, 773, 787, 797, 809, 811, 821, 823, 827, 829, 839, 853, 857, 859, 863, 877, 881, 883, 887, 907, 911, 919, 929, 937, 941, 947, 953, 967, 971, 977, 983, 991, 997]\n"
     ]
    }
   ],
   "source": [
    "def listOfPrime(n1, n2):\n",
    "    prime = []\n",
    "    for i in range(n1, n2 + 1):\n",
    "        if i > 1:\n",
    "            for j in range(2, int(i ** 0.5) + 1):\n",
    "                if i % j == 0:\n",
    "                    break\n",
    "            else:\n",
    "                prime.append(i)\n",
    "    return prime\n",
    "\n",
    "n1 = int(input(\"Enter n1: \"))\n",
    "n2 = int(input(\"Enter n2: \"))\n",
    "\n",
    "print(f'Prime numbers from {n1}-{n2} are : {listOfPrime(n1, n2)}')"
   ]
  },
  {
   "cell_type": "markdown",
   "metadata": {},
   "source": [
    "### 05) Write a function that returns True if the given string is Palindrome or False otherwise."
   ]
  },
  {
   "cell_type": "code",
   "execution_count": 30,
   "metadata": {},
   "outputs": [
    {
     "name": "stdout",
     "output_type": "stream",
     "text": [
      "hello is palindrome = False\n"
     ]
    }
   ],
   "source": [
    "def isPalindrome(s):\n",
    "    cleaned = ''.join(c.lower() for c in s if c.isalnum())\n",
    "    return cleaned == cleaned[::-1]\n",
    "\n",
    "s = input(\"Enter string: \")\n",
    "\n",
    "print(f'{s} is palindrome = {isPalindrome(s)}')"
   ]
  },
  {
   "cell_type": "markdown",
   "metadata": {},
   "source": [
    "### 06) Write a function that returns the sum of all the elements of the list."
   ]
  },
  {
   "cell_type": "code",
   "execution_count": null,
   "metadata": {},
   "outputs": [
    {
     "name": "stdout",
     "output_type": "stream",
     "text": [
      "sum of [1, 2, 3, 4, 5, 6, 7, 8, 9, 10] = 55\n"
     ]
    }
   ],
   "source": [
    "def sumOfList(l):\n",
    "    return sum(l)\n",
    "l = [1,2,3,4,5,6,7,8,9,10]\n",
    "print(f'sum of {l} = {sumOfList(l)}')"
   ]
  },
  {
   "cell_type": "markdown",
   "metadata": {},
   "source": [
    "### 07) Write a function to calculate the sum of the first element of each tuples inside the list."
   ]
  },
  {
   "cell_type": "code",
   "execution_count": null,
   "metadata": {},
   "outputs": [
    {
     "name": "stdout",
     "output_type": "stream",
     "text": [
      "9\n"
     ]
    }
   ],
   "source": [
    "def sumOfFirstElements(tuples_list):\n",
    "    return sum(t[0] for t in tuples_list)\n",
    "\n",
    "tuples_list = [(1, 2), (3, 4), (5, 6)]\n",
    "print(sumOfFirstElements(tuples_list))\n"
   ]
  },
  {
   "cell_type": "markdown",
   "metadata": {},
   "source": [
    "### 08) Write a recursive function to find nth term of Fibonacci Series."
   ]
  },
  {
   "cell_type": "code",
   "execution_count": null,
   "metadata": {},
   "outputs": [
    {
     "name": "stdout",
     "output_type": "stream",
     "text": [
      "The 10th term of the Fibonacci series is: 55\n"
     ]
    }
   ],
   "source": [
    "def fibonacci(n):\n",
    "    if n == 0:\n",
    "        return 0\n",
    "    elif n == 1:\n",
    "        return 1\n",
    "    return fibonacci(n - 1) + fibonacci(n - 2)\n",
    "\n",
    "n = 10\n",
    "print(f\"The {n}th term of the Fibonacci series is: {fibonacci(n)}\")\n"
   ]
  },
  {
   "cell_type": "markdown",
   "metadata": {},
   "source": [
    "### 09) Write a function to get the name of the student based on the given rollno.\n",
    "#### Example: Given dict1 = {101:'Ajay', 102:'Rahul', 103:'Jay', 104:'Pooja'} find name of student whose rollno = 103"
   ]
  },
  {
   "cell_type": "code",
   "execution_count": null,
   "metadata": {},
   "outputs": [
    {
     "name": "stdout",
     "output_type": "stream",
     "text": [
      "roll no 103 is Jay\n"
     ]
    }
   ],
   "source": [
    "def findStudents(dict, number):\n",
    "    return dict[number]\n",
    "\n",
    "dict1 = {101:'Ajay', 102:'Rahul', 103:'Jay', 104:'Pooja'}\n",
    "print(f'name of roll no {103} is {findStudents(dict1,103)}')"
   ]
  },
  {
   "cell_type": "markdown",
   "metadata": {},
   "source": [
    "### 10) Write a function to get the sum of the scores ending with zero.\n",
    "#### Example : scores = [200, 456, 300, 100, 234, 678] \n",
    "#### Ans = 200 + 300 + 100 = 600"
   ]
  },
  {
   "cell_type": "code",
   "execution_count": 35,
   "metadata": {},
   "outputs": [
    {
     "name": "stdout",
     "output_type": "stream",
     "text": [
      "The sum of scores ending with zero is: 600\n"
     ]
    }
   ],
   "source": [
    "def sumOfScoresEndingWithZero(scores):\n",
    "    return sum(score for score in scores if score % 10 == 0)\n",
    "\n",
    "scores = [200, 456, 300, 100, 234, 678]\n",
    "print(f\"The sum of scores ending with zero is: {sumOfScoresEndingWithZero(scores)}\")\n"
   ]
  },
  {
   "cell_type": "markdown",
   "metadata": {},
   "source": [
    "### 11) Write a function to invert a given Dictionary.\n",
    "#### hint: keys to values & values to keys\n",
    "#### Before : {'a': 10, 'b':20, 'c':30, 'd':40}\n",
    "#### After : {10:'a', 20:'b', 30:'c', 40:'d'}"
   ]
  },
  {
   "cell_type": "code",
   "execution_count": 36,
   "metadata": {},
   "outputs": [
    {
     "name": "stdout",
     "output_type": "stream",
     "text": [
      "Before: {'a': 10, 'b': 20, 'c': 30, 'd': 40}\n",
      "After: {10: 'a', 20: 'b', 30: 'c', 40: 'd'}\n"
     ]
    }
   ],
   "source": [
    "def invertDictionary(input_dict):\n",
    "    return {value: key for key, value in input_dict.items()}\n",
    "\n",
    "before = {'a': 10, 'b': 20, 'c': 30, 'd': 40}\n",
    "after = invertDictionary(before)\n",
    "print(f\"Before: {before}\")\n",
    "print(f\"After: {after}\")"
   ]
  },
  {
   "cell_type": "markdown",
   "metadata": {},
   "source": [
    "### 12) Write a function to check whether the given string is Pangram or not.\n",
    "#### hint: Pangram is a string containing all the characters a-z atlest once.\n",
    "#### \"the quick brown fox jumps over the lazy dog\" is a Pangram string."
   ]
  },
  {
   "cell_type": "code",
   "execution_count": 37,
   "metadata": {},
   "outputs": [
    {
     "name": "stdout",
     "output_type": "stream",
     "text": [
      "Is the string a pangram? True\n"
     ]
    }
   ],
   "source": [
    "def isPangram(s):\n",
    "    s = s.lower()\n",
    "    alphabet_set = set('abcdefghijklmnopqrstuvwxyz')\n",
    "    return alphabet_set.issubset(set(s))\n",
    "\n",
    "string = \"The quick brown fox jumps over the lazy dog\"\n",
    "print(f\"Is the string a pangram? {isPangram(string)}\")"
   ]
  },
  {
   "cell_type": "markdown",
   "metadata": {},
   "source": [
    "### 13) Write a function that returns the number of uppercase and lowercase letters in the given string. \n",
    "#### example : Input : s1 = AbcDEfgh ,Ouptput : no_upper = 3, no_lower = 5"
   ]
  },
  {
   "cell_type": "code",
   "execution_count": 38,
   "metadata": {},
   "outputs": [
    {
     "name": "stdout",
     "output_type": "stream",
     "text": [
      "Input: AbcDEfgh\n",
      "Number of uppercase letters: 3\n",
      "Number of lowercase letters: 5\n"
     ]
    }
   ],
   "source": [
    "def countCase(s):\n",
    "    no_upper = 0\n",
    "    no_lower = 0\n",
    "    \n",
    "    for char in s:\n",
    "        if char.isupper():\n",
    "            no_upper += 1\n",
    "        elif char.islower():\n",
    "            no_lower += 1\n",
    "    return no_upper, no_lower\n",
    "\n",
    "s1 = \"AbcDEfgh\"\n",
    "no_upper, no_lower = countCase(s1)\n",
    "print(f\"Input: {s1}\")\n",
    "print(f\"Number of uppercase letters: {no_upper}\")\n",
    "print(f\"Number of lowercase letters: {no_lower}\")"
   ]
  },
  {
   "cell_type": "markdown",
   "metadata": {},
   "source": [
    "### 14) Write a lambda function to get smallest number from the given two numbers."
   ]
  },
  {
   "cell_type": "code",
   "execution_count": 39,
   "metadata": {},
   "outputs": [
    {
     "name": "stdout",
     "output_type": "stream",
     "text": [
      "The smallest number between 10 and 20 is: 10\n"
     ]
    }
   ],
   "source": [
    "get_smallest = lambda a, b: a if a < b else b\n",
    "\n",
    "num1, num2 = 10, 20\n",
    "print(f\"The smallest number between {num1} and {num2} is: {get_smallest(num1, num2)}\")"
   ]
  },
  {
   "cell_type": "markdown",
   "metadata": {},
   "source": [
    "### 15) For the given list of names of students, extract the names having more that 7 characters. Use filter()."
   ]
  },
  {
   "cell_type": "code",
   "execution_count": 46,
   "metadata": {},
   "outputs": [
    {
     "name": "stdout",
     "output_type": "stream",
     "text": [
      "['Pratyush', 'Vishavajeet', 'Dharmarajsingh']\n"
     ]
    }
   ],
   "source": [
    "names = [\"Dhaval\", \"Pratyush\", \"Vishavajeet\", \"Poojan\", \"Dharmarajsingh\"]\n",
    "\n",
    "names_with_more_than_7_chars = list(filter(lambda name: len(name) > 7, names))\n",
    "\n",
    "print(names_with_more_than_7_chars)"
   ]
  },
  {
   "cell_type": "markdown",
   "metadata": {},
   "source": [
    "### 16) For the given list of names of students, convert the first letter of all the names into uppercase. use map()."
   ]
  },
  {
   "cell_type": "code",
   "execution_count": 48,
   "metadata": {},
   "outputs": [
    {
     "name": "stdout",
     "output_type": "stream",
     "text": [
      "['Dhaval', 'Pratyush', 'Vishavajeet', 'Poojan', 'Dharmarajsingh']\n"
     ]
    }
   ],
   "source": [
    "names = [\"Dhaval\", \"Pratyush\", \"Vishavajeet\", \"Poojan\", \"Dharmarajsingh\"]\n",
    "capitalized_names = list(map(lambda name: name.capitalize(), names))\n",
    "print(capitalized_names)"
   ]
  },
  {
   "cell_type": "markdown",
   "metadata": {},
   "source": [
    "### 17) Write udfs to call the functions with following types of arguments:\n",
    "1. Positional Arguments\n",
    "2. Keyword Arguments\n",
    "3. Default Arguments\n",
    "4. Variable Legngth Positional(*args) & variable length Keyword Arguments (**kwargs)\n",
    "5. Keyword-Only & Positional Only Arguments"
   ]
  },
  {
   "cell_type": "code",
   "execution_count": 51,
   "metadata": {},
   "outputs": [
    {
     "name": "stdout",
     "output_type": "stream",
     "text": [
      "Hello Aarav, you are 30 years old.\n",
      "Hello Darsh, you are 25 years old.\n",
      "Hello Jinal, you are 18 years old.\n",
      "Hello Poojan, you are 22 years old.\n",
      "Names: ('Harshil', 'Nehal')\n",
      "Details: {'age': 30, 'city': 'Surat'}\n",
      "Name: Rupal, Age: 28, City: Rajkot\n",
      "Name: Karan, Age: 32, City: Unknown\n"
     ]
    }
   ],
   "source": [
    "# 1. Positional Arguments\n",
    "def greet(name, age):\n",
    "    print(f\"Hello {name}, you are {age} years old.\")\n",
    "\n",
    "greet(\"Aarav\", 30)\n",
    "\n",
    "# 2. Keyword Arguments\n",
    "def greet_person(name, age):\n",
    "    print(f\"Hello {name}, you are {age} years old.\")\n",
    "\n",
    "greet_person(age=25, name=\"Darsh\")\n",
    "\n",
    "# 3. Default Arguments\n",
    "def greet_with_default(name, age=18):\n",
    "    print(f\"Hello {name}, you are {age} years old.\")\n",
    "\n",
    "greet_with_default(\"Jinal\")\n",
    "greet_with_default(\"Poojan\", 22)\n",
    "\n",
    "# 4. Variable Length Positional (*args) & Variable Length Keyword Arguments (**kwargs)\n",
    "def greet_multiple(*args, **kwargs):\n",
    "    print(\"Names:\", args)\n",
    "    print(\"Details:\", kwargs)\n",
    "\n",
    "greet_multiple(\"Harshil\", \"Nehal\", age=30, city=\"Surat\")\n",
    "\n",
    "# 5. Keyword-Only & Positional Only Arguments\n",
    "def greet_positional_keyword(name, /, age, city=\"Unknown\"):\n",
    "    print(f\"Name: {name}, Age: {age}, City: {city}\")\n",
    "\n",
    "greet_positional_keyword(\"Rupal\", age=28, city=\"Rajkot\")\n",
    "greet_positional_keyword(\"Karan\", age=32) "
   ]
  }
 ],
 "metadata": {
  "kernelspec": {
   "display_name": "Python 3",
   "language": "python",
   "name": "python3"
  },
  "language_info": {
   "codemirror_mode": {
    "name": "ipython",
    "version": 3
   },
   "file_extension": ".py",
   "mimetype": "text/x-python",
   "name": "python",
   "nbconvert_exporter": "python",
   "pygments_lexer": "ipython3",
   "version": "3.12.4"
  }
 },
 "nbformat": 4,
 "nbformat_minor": 4
}
