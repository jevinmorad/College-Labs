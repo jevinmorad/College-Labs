{
 "cells": [
  {
   "cell_type": "markdown",
   "metadata": {},
   "source": [
    "<a href='https://www.darshan.ac.in/'> <img src='https://www.darshan.ac.in/Content/media/DU_Logo.svg' width=\"250\" height=\"300\"/></a>\n",
    "<pre>\n",
    "<center><b><h1>Python Programming - 2301CS404</b></center>\n",
    "<center><b><h1>Lab - 11</b></center>    \n",
    "<pre>"
   ]
  },
  {
   "cell_type": "markdown",
   "metadata": {},
   "source": [
    "# Modules"
   ]
  },
  {
   "cell_type": "code",
   "execution_count": 51,
   "metadata": {},
   "outputs": [],
   "source": [
    "import calculator\n",
    "import random as rand\n",
    "from datetime import datetime, timedelta, date\n",
    "import math"
   ]
  },
  {
   "cell_type": "markdown",
   "metadata": {},
   "source": [
    "### 01) WAP to create Calculator module which defines functions like add, sub,mul and div. \n",
    "### Create another .py file that uses the functions available in Calculator module."
   ]
  },
  {
   "cell_type": "code",
   "execution_count": 36,
   "metadata": {},
   "outputs": [
    {
     "name": "stdout",
     "output_type": "stream",
     "text": [
      "add = 17\n",
      "sub = 3\n",
      "mult = 70\n",
      "div = 1.4285714285714286\n",
      "fdiv = 1\n",
      "rem = 3\n"
     ]
    }
   ],
   "source": [
    "print(f\"add = {calculator.add(10,7)}\")\n",
    "print(f\"sub = {calculator.sub(10,7)}\")\n",
    "print(f\"mult = {calculator.mult(10,7)}\")\n",
    "print(f\"div = {calculator.div(10,7)}\")\n",
    "print(f\"fdiv = {calculator.fdiv(10,7)}\")\n",
    "print(f\"rem = {calculator.rem(10,7)}\")"
   ]
  },
  {
   "cell_type": "markdown",
   "metadata": {},
   "source": [
    "### 02) WAP to pick a random character from a given String."
   ]
  },
  {
   "cell_type": "code",
   "execution_count": 37,
   "metadata": {},
   "outputs": [
    {
     "name": "stdout",
     "output_type": "stream",
     "text": [
      "Enter a string : My name Jevin Morad\n",
      "y\n"
     ]
    }
   ],
   "source": [
    "st = input(\"Enter a string : \")\n",
    "print(st[rand.randrange(len(st))])"
   ]
  },
  {
   "cell_type": "markdown",
   "metadata": {},
   "source": [
    "### 03) WAP to pick a random element from a given list."
   ]
  },
  {
   "cell_type": "code",
   "execution_count": 38,
   "metadata": {},
   "outputs": [
    {
     "name": "stdout",
     "output_type": "stream",
     "text": [
      "Enter numbers with space : 1 2 3 4 5 6 7 8 9 10 11\n",
      "3\n"
     ]
    }
   ],
   "source": [
    "li = input(\"Enter anything with space : \").split()\n",
    "print(li[rand.randrange(len(li))])"
   ]
  },
  {
   "cell_type": "markdown",
   "metadata": {},
   "source": [
    "### 04) WAP to roll a dice in such a way that every time you get the same number."
   ]
  },
  {
   "cell_type": "code",
   "execution_count": 43,
   "metadata": {},
   "outputs": [
    {
     "name": "stdout",
     "output_type": "stream",
     "text": [
      "341\n",
      "107\n",
      "983\n"
     ]
    }
   ],
   "source": [
    "rand.seed(4)\n",
    "print( rand.randint(100,1000))\n",
    "\n",
    "rand.seed(2)\n",
    "print( rand.randint(100,200))\n",
    "\n",
    "rand.seed(2)\n",
    "print( rand.randint(100,1000))"
   ]
  },
  {
   "cell_type": "markdown",
   "metadata": {},
   "source": [
    "### 05) WAP to generate 3 random integers between 100 and 999 which is divisible by 5."
   ]
  },
  {
   "cell_type": "code",
   "execution_count": 40,
   "metadata": {},
   "outputs": [
    {
     "name": "stdout",
     "output_type": "stream",
     "text": [
      "[820, 845, 955]\n"
     ]
    }
   ],
   "source": [
    "li = []\n",
    "while(len(li)<3):\n",
    "    num = rand.randint(100,1000)\n",
    "    if(num%5==0):\n",
    "        li.append(num)\n",
    "print(li)"
   ]
  },
  {
   "cell_type": "markdown",
   "metadata": {},
   "source": [
    "### 06) WAP to generate 100 random lottery tickets and pick two lucky tickets from it and announce them as Winner and Runner up respectively."
   ]
  },
  {
   "cell_type": "code",
   "execution_count": 49,
   "metadata": {},
   "outputs": [
    {
     "name": "stdout",
     "output_type": "stream",
     "text": [
      "Winner is 294\n",
      "Runner up is 501\n"
     ]
    }
   ],
   "source": [
    "li = rand.sample(range(1, 1000), 100)\n",
    "winner = li[rand.randrange(len(li))]\n",
    "print(f\"Winner is {winner}\")\n",
    "li.remove(winner)\n",
    "print(f\"Runner up is {li[rand.randrange(len(li))]}\")"
   ]
  },
  {
   "cell_type": "markdown",
   "metadata": {},
   "source": [
    "### 07) WAP to print current date and time in Python."
   ]
  },
  {
   "cell_type": "code",
   "execution_count": 14,
   "metadata": {},
   "outputs": [
    {
     "name": "stdout",
     "output_type": "stream",
     "text": [
      "2025-02-10 10:12:34.915800\n"
     ]
    }
   ],
   "source": [
    "print(datetime.now())"
   ]
  },
  {
   "cell_type": "markdown",
   "metadata": {},
   "source": [
    "### 08) Subtract a week (7 days) from a given date in Python."
   ]
  },
  {
   "cell_type": "code",
   "execution_count": 13,
   "metadata": {},
   "outputs": [
    {
     "name": "stdout",
     "output_type": "stream",
     "text": [
      "Current time:  2025-02-10 10:12:30.132256\n",
      "2025-02-03 10:12:30.133078\n"
     ]
    }
   ],
   "source": [
    "print(\"Current time: \", datetime.now())\n",
    "print(datetime.now() - timedelta(days=7))"
   ]
  },
  {
   "cell_type": "markdown",
   "metadata": {},
   "source": [
    "### 09) WAP to Calculate number of days between two given dates."
   ]
  },
  {
   "cell_type": "code",
   "execution_count": 31,
   "metadata": {},
   "outputs": [
    {
     "name": "stdout",
     "output_type": "stream",
     "text": [
      "days = 6952\n"
     ]
    }
   ],
   "source": [
    "date1 = date(2006,1,29)\n",
    "date2 = datetime.now().date()\n",
    "print(f\"days = {(date2-date1).days}\")"
   ]
  },
  {
   "cell_type": "markdown",
   "metadata": {},
   "source": [
    "### 10) WAP to Find the day of the week of a given date.(i.e. wether it is sunday/monday/tuesday/etc.)"
   ]
  },
  {
   "cell_type": "code",
   "execution_count": 22,
   "metadata": {},
   "outputs": [
    {
     "name": "stdout",
     "output_type": "stream",
     "text": [
      "Monday\n"
     ]
    }
   ],
   "source": [
    "days=['Monday','Tuesdya','Wednesday','Thursday','Friday','Saturday','Sunday']\n",
    "print(days[datetime.now().weekday()])"
   ]
  },
  {
   "cell_type": "markdown",
   "metadata": {},
   "source": [
    "### 11) WAP to demonstrate the use of date time module."
   ]
  },
  {
   "cell_type": "code",
   "execution_count": 24,
   "metadata": {},
   "outputs": [
    {
     "name": "stdout",
     "output_type": "stream",
     "text": [
      "2025-02-10 10:22:33.795948\n",
      "days = 6952\n",
      "Monday\n"
     ]
    }
   ],
   "source": [
    "print(datetime.now())\n",
    "\n",
    "date1 = date(2006,1,29)\n",
    "date2 = date(2025,2,10)\n",
    "print(f\"days = {(date2-date1).days}\")\n",
    "\n",
    "days=['Monday','Tuesdya','Wednesday','Thursday','Friday','Saturday','Sunday']\n",
    "print(days[datetime.now().weekday()])"
   ]
  },
  {
   "cell_type": "markdown",
   "metadata": {},
   "source": [
    "### 12) WAP to demonstrate the use of the math module."
   ]
  },
  {
   "cell_type": "code",
   "execution_count": 53,
   "metadata": {},
   "outputs": [
    {
     "name": "stdout",
     "output_type": "stream",
     "text": [
      "4.0\n",
      "2.6457513110645907\n"
     ]
    }
   ],
   "source": [
    "print(math.pow(2,2))\n",
    "print(math.sqrt(7))"
   ]
  }
 ],
 "metadata": {
  "kernelspec": {
   "display_name": "Python 3 (ipykernel)",
   "language": "python",
   "name": "python3"
  },
  "language_info": {
   "codemirror_mode": {
    "name": "ipython",
    "version": 3
   },
   "file_extension": ".py",
   "mimetype": "text/x-python",
   "name": "python",
   "nbconvert_exporter": "python",
   "pygments_lexer": "ipython3",
   "version": "3.10.9"
  }
 },
 "nbformat": 4,
 "nbformat_minor": 4
}
