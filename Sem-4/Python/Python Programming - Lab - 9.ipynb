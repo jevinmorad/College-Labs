{
 "cells": [
  {
   "cell_type": "markdown",
   "metadata": {},
   "source": [
    "<a href='https://www.darshan.ac.in/'> <img src='https://www.darshan.ac.in/Content/media/DU_Logo.svg' width=\"250\" height=\"300\"/></a>\n",
    "<pre>\n",
    "<center><b><h1>Python Programming - 2301CS404</b></center>\n",
    "<center><b><h1>Lab - 9</b></center>    \n",
    "<pre>"
   ]
  },
  {
   "cell_type": "markdown",
   "metadata": {},
   "source": [
    "# File I/O"
   ]
  },
  {
   "cell_type": "markdown",
   "metadata": {},
   "source": [
    "### 01) WAP to read and display the contents of a text file. (also try to open the file in some other directory) \n",
    "#### - in the form of a string\n",
    "#### - line by line\n",
    "#### - in the form of a list"
   ]
  },
  {
   "cell_type": "code",
   "execution_count": 8,
   "metadata": {},
   "outputs": [
    {
     "name": "stdout",
     "output_type": "stream",
     "text": [
      "My name is \n",
      "Morad Jevin\n",
      "\n",
      "My name is \n",
      "\n",
      "['My name is \\n', 'Morad Jevin']\n"
     ]
    }
   ],
   "source": [
    "fp = open('text.txt','r')\n",
    "data = fp.read()\n",
    "print(data,end='\\n\\n')\n",
    "fp.seek(0,0)\n",
    "data = fp.readline()\n",
    "print(data)\n",
    "fp.seek(0,0)\n",
    "data = fp.readlines()\n",
    "print(data)\n",
    "fp.close()"
   ]
  },
  {
   "cell_type": "markdown",
   "metadata": {},
   "source": [
    "### 02) WAP to create file named \"new.txt\" only if it doesn't exist."
   ]
  },
  {
   "cell_type": "code",
   "execution_count": 10,
   "metadata": {},
   "outputs": [],
   "source": [
    "fp = open('new.txt','w')\n",
    "fp.close()"
   ]
  },
  {
   "cell_type": "markdown",
   "metadata": {},
   "source": [
    "### 03) WAP to read first 5 lines from the text file."
   ]
  },
  {
   "cell_type": "code",
   "execution_count": 13,
   "metadata": {},
   "outputs": [
    {
     "name": "stdout",
     "output_type": "stream",
     "text": [
      "My name is \n",
      "Morad Jevin\n",
      "A\n",
      "B\n",
      "C\n",
      "\n"
     ]
    }
   ],
   "source": [
    "fp = open('text.txt','r')\n",
    "data = \"\"\n",
    "for i in range(0,5):\n",
    "    data+=fp.readline()\n",
    "print(data)\n",
    "fp.close()"
   ]
  },
  {
   "cell_type": "markdown",
   "metadata": {},
   "source": [
    "### 04) WAP to find the longest word(s) in a file"
   ]
  },
  {
   "cell_type": "code",
   "execution_count": 20,
   "metadata": {},
   "outputs": [
    {
     "name": "stdout",
     "output_type": "stream",
     "text": [
      "Morad\n"
     ]
    }
   ],
   "source": [
    "fp = open('text.txt','r')\n",
    "words = fp.read().split()\n",
    "maxLen = 0\n",
    "maxLenWord = ''\n",
    "for w in words:\n",
    "    if(len(w)>maxLen):\n",
    "        maxLenWord = w\n",
    "        maxLen = len(w)\n",
    "print(maxLenWord)\n",
    "fp.close()"
   ]
  },
  {
   "cell_type": "markdown",
   "metadata": {},
   "source": [
    "### 05) WAP to count the no. of lines, words and characters in a given text file."
   ]
  },
  {
   "cell_type": "code",
   "execution_count": 23,
   "metadata": {},
   "outputs": [
    {
     "name": "stdout",
     "output_type": "stream",
     "text": [
      "Lines = 8\n",
      "Words = 11\n",
      "Characters = 35\n"
     ]
    }
   ],
   "source": [
    "fp = open('text.txt','r')\n",
    "characters = len(fp.read())\n",
    "fp.seek(0,0)\n",
    "lines = len(fp.readlines())\n",
    "fp.seek(0,0)\n",
    "words = len(fp.read().split())\n",
    "print(f'Lines = {lines}\\nWords = {words}\\nCharacters = {characters}')\n",
    "fp.close()"
   ]
  },
  {
   "cell_type": "markdown",
   "metadata": {},
   "source": [
    "### 06) WAP to copy the content of a file to the another file."
   ]
  },
  {
   "cell_type": "code",
   "execution_count": 25,
   "metadata": {},
   "outputs": [],
   "source": [
    "fp1 = open('text.txt','r')\n",
    "data = fp1.read()\n",
    "fp1.close()\n",
    "fp2 = open('text(Copy).txt','w')\n",
    "fp2.write(data)\n",
    "fp2.close()"
   ]
  },
  {
   "cell_type": "markdown",
   "metadata": {},
   "source": [
    "### 07) WAP to find the size of the text file. "
   ]
  },
  {
   "cell_type": "code",
   "execution_count": 34,
   "metadata": {},
   "outputs": [
    {
     "name": "stdout",
     "output_type": "stream",
     "text": [
      "35\n"
     ]
    }
   ],
   "source": [
    "fp = open('text.txt','r')\n",
    "fp.seek(0,2)\n",
    "print(fp.tell())\n",
    "fp.close()"
   ]
  },
  {
   "cell_type": "markdown",
   "metadata": {},
   "source": [
    "### 08) WAP to create an UDF named frequency to count occurances of the specific word in a given text file."
   ]
  },
  {
   "cell_type": "code",
   "execution_count": 31,
   "metadata": {},
   "outputs": [
    {
     "name": "stdout",
     "output_type": "stream",
     "text": [
      "{'My': 1, 'name': 1, 'is': 1, 'Morad': 1, 'Jevin': 1, 'A': 1, 'B': 1, 'C': 1, 'D': 1, 'E': 1, 'F': 1}\n"
     ]
    }
   ],
   "source": [
    "def frequency(data):\n",
    "    dic = {}\n",
    "    for w in data:\n",
    "        if w not in dic:\n",
    "            dic[w]=data.count(w)\n",
    "    return dic\n",
    "\n",
    "fp = open('text.txt','r')\n",
    "print(frequency(fp.read().split()))"
   ]
  },
  {
   "cell_type": "markdown",
   "metadata": {},
   "source": [
    "### 09) WAP to get the score of five subjects from the user, store them in a file. Fetch those marks and find the highest score."
   ]
  },
  {
   "cell_type": "code",
   "execution_count": 3,
   "metadata": {},
   "outputs": [
    {
     "name": "stdout",
     "output_type": "stream",
     "text": [
      "Enter 5 subjects name: Maths Science English Gujarati Biology\n",
      "Enter respective marks: 90 92 75 85 93\n",
      "[90, 92, 75, 85, 93]\n",
      "Highest mark: 93\n"
     ]
    }
   ],
   "source": [
    "subjects = input(\"Enter 5 subjects name: \").split()\n",
    "marks = input(\"Enter respective marks: \").split()\n",
    "\n",
    "with open('marksheet.txt', 'w+') as fp:\n",
    "    data = \"\"\n",
    "    for i in range(len(marks)):\n",
    "        data += subjects[i] + \" : \" + marks[i] + \"\\n\"\n",
    "    fp.write(data)\n",
    "\n",
    "with open('marksheet.txt', 'r') as fp:\n",
    "    fetch = fp.read().splitlines()\n",
    "\n",
    "marks = [int(line.split(' : ')[1]) for line in fetch if line]\n",
    "print(marks)\n",
    "\n",
    "print(\"Highest mark:\", max(marks))"
   ]
  },
  {
   "cell_type": "markdown",
   "metadata": {},
   "source": [
    "### 10) WAP to write first 100 prime numbers to a file named primenumbers.txt \n",
    "(Note: each number should be in new line)"
   ]
  },
  {
   "cell_type": "code",
   "execution_count": null,
   "metadata": {},
   "outputs": [],
   "source": []
  },
  {
   "cell_type": "markdown",
   "metadata": {},
   "source": [
    "### 11) WAP to merge two files and write it in a new file."
   ]
  },
  {
   "cell_type": "code",
   "execution_count": null,
   "metadata": {},
   "outputs": [],
   "source": []
  },
  {
   "cell_type": "markdown",
   "metadata": {},
   "source": [
    "### 12) WAP to replace word1 by word2 of a text file. Write the updated data to new file."
   ]
  },
  {
   "cell_type": "code",
   "execution_count": null,
   "metadata": {},
   "outputs": [],
   "source": []
  },
  {
   "cell_type": "markdown",
   "metadata": {},
   "source": [
    "### 13) Demonstrate tell() and seek() for all the cases(seek from beginning-end-current position) taking a suitable example of your choice."
   ]
  },
  {
   "cell_type": "code",
   "execution_count": null,
   "metadata": {},
   "outputs": [],
   "source": []
  }
 ],
 "metadata": {
  "kernelspec": {
   "display_name": "Python 3 (ipykernel)",
   "language": "python",
   "name": "python3"
  },
  "language_info": {
   "codemirror_mode": {
    "name": "ipython",
    "version": 3
   },
   "file_extension": ".py",
   "mimetype": "text/x-python",
   "name": "python",
   "nbconvert_exporter": "python",
   "pygments_lexer": "ipython3",
   "version": "3.10.9"
  }
 },
 "nbformat": 4,
 "nbformat_minor": 4
}
